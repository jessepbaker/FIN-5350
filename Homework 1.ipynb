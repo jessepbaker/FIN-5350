{
 "cells": [
  {
   "cell_type": "markdown",
   "metadata": {},
   "source": [
    "# Homework 1\n",
    "Jesse Baker"
   ]
  },
  {
   "cell_type": "markdown",
   "metadata": {},
   "source": [
    "## Problem 1"
   ]
  },
  {
   "cell_type": "code",
   "execution_count": 1,
   "metadata": {},
   "outputs": [
    {
     "name": "stdout",
     "output_type": "stream",
     "text": [
      "The largest size that you cannot get is: 43\n"
     ]
    }
   ],
   "source": [
    "def is_nugget_number(candidate, SIX = 6, NINE = 9, TWENTY = 20):\n",
    "    for i in range(candidate//SIX + 1):\n",
    "        for j in range(candidate//NINE + 1):\n",
    "            for k in range(candidate//TWENTY + 1):\n",
    "                if(candidate == i * SIX + j * NINE + k * TWENTY):\n",
    "                    return True\n",
    "    \n",
    "    return False\n",
    "\n",
    "\n",
    "## main\n",
    "sizes = {'S' : 6, 'M' : 9, 'L': 20}\n",
    "SIX = 6\n",
    "count = 0\n",
    "largest = 0\n",
    "candidate = SIX\n",
    "\n",
    "while count < SIX:\n",
    "    if(is_nugget_number(candidate)):\n",
    "        count += 1\n",
    "    else:\n",
    "        largest = candidate\n",
    "        count = 0\n",
    "    candidate += 1\n",
    "        \n",
    "print(\"The largest size that you cannot get is: {0}\".format(largest))"
   ]
  },
  {
   "cell_type": "markdown",
   "metadata": {},
   "source": [
    "## Problem 2"
   ]
  },
  {
   "cell_type": "code",
   "execution_count": 2,
   "metadata": {},
   "outputs": [
    {
     "name": "stdin",
     "output_type": "stream",
     "text": [
      "Enter a number:  24\n"
     ]
    },
    {
     "name": "stdout",
     "output_type": "stream",
     "text": [
      "The computer is guessing 50\n",
      "The computer is guessing 25\n",
      "The computer is guessing 12\n",
      "The computer is guessing 19\n",
      "The computer is guessing 22\n",
      "The computer guessed the correct number in 6 attempts and 24 was correct\n"
     ]
    }
   ],
   "source": [
    "def guessing_game(num):\n",
    "    low = 0\n",
    "    high = 100\n",
    "    guess = 50\n",
    "    attempt = 1\n",
    "    while guess != num:\n",
    "        print(\"The computer is guessing\", guess)\n",
    "        if guess > num:\n",
    "            high = guess\n",
    "        elif guess < num:\n",
    "            low = guess + 1\n",
    "        guess = (low + high) // 2\n",
    "        attempt += 1\n",
    "        \n",
    "    print(\"The computer guessed the correct number in\", attempt, \"attempts and\", guess, \"was correct\")\n",
    "\n",
    "def main():\n",
    "    num = int(input(\"Enter a number: \"))\n",
    "    if num < 0 or num > 100:\n",
    "        print(\"Needs to be between 0 - 100\")\n",
    "    else:\n",
    "        guessing_game(num)\n",
    "        \n",
    "if __name__ == '__main__':\n",
    "    main()"
   ]
  },
  {
   "cell_type": "code",
   "execution_count": null,
   "metadata": {},
   "outputs": [],
   "source": []
  }
 ],
 "metadata": {
  "kernelspec": {
   "display_name": "Python 3",
   "language": "python",
   "name": "python3"
  },
  "language_info": {
   "codemirror_mode": {
    "name": "ipython",
    "version": 3
   },
   "file_extension": ".py",
   "mimetype": "text/x-python",
   "name": "python",
   "nbconvert_exporter": "python",
   "pygments_lexer": "ipython3",
   "version": "3.7.0"
  }
 },
 "nbformat": 4,
 "nbformat_minor": 2
}
