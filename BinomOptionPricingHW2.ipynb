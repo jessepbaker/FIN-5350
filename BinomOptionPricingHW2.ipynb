{
 "cells": [
  {
   "cell_type": "markdown",
   "metadata": {},
   "source": [
    "## FIN 5350 Homework 2\n",
    "#### Jesse Baker"
   ]
  },
  {
   "cell_type": "code",
   "execution_count": 9,
   "metadata": {},
   "outputs": [],
   "source": [
    "## First import numpy\n",
    "import numpy as np\n",
    "from scipy.stats import binom\n",
    "\n",
    "## Call Payoff Function\n",
    "def callPayoff(spot, strike):\n",
    "    return np.maximum(spot - strike, 0.0)\n",
    "\n",
    "## Put Payoff Function\n",
    "def putPayoff(spot, strike):\n",
    "    return np.maximum(strike - spot, 0.0)"
   ]
  },
  {
   "cell_type": "code",
   "execution_count": 74,
   "metadata": {},
   "outputs": [],
   "source": [
    "def euroBinomPricerRecursiveMatrix(S, K, r, v, q, T, n, payoff, verbose = True):\n",
    "    nodes = n  + 1\n",
    "    h = T / n\n",
    "    u = np.exp((r - q) * h + v * np.sqrt(h))\n",
    "    d = np.exp((r - q) * h - v * np.sqrt(h))\n",
    "    pu = (np.exp((r - q) * h) - d) / (u - d)\n",
    "    pd = 1.0 - pu\n",
    "    disc = np.exp(-r * h)\n",
    "    \n",
    "    ## Arrays to store the spot prices and option values\n",
    "    Ct = np.zeros((nodes, n+1))\n",
    "    St = np.zeros((nodes, n+1))\n",
    "    Dt = np.zeros((nodes, n+1))\n",
    "    Bt = np.zeros((nodes, n+1))\n",
    "    \n",
    "    for i in range(nodes):\n",
    "        St[i, n] = S * (u**(n-i)) * (d**i)\n",
    "        Ct[i, n] = payoff(St[i, n], K)\n",
    "    \n",
    "\n",
    "    for t in range((n-1), -1, -1):\n",
    "        for j in range(t+1):\n",
    "            St[j, t] = St[j, t+1] / u\n",
    "            Ct[j, t] = disc * ((pu * Ct[j, t+1]) + (pd * Ct[j+1, t+1]))                    \n",
    "            Dt[j, t] = np.exp(-q * h) * (Ct[j, t+1] - Ct[j+1, t+1]) / (St[j, t] * (u - d)) #delta\n",
    "            Bt[j, t] = np.exp(-r * h) * (((u * Ct[j+1, t+1]) - (d * Ct[j, t+1])) / (u - d))\n",
    "            \n",
    "    if verbose:\n",
    "        print(np.around(St, 3))\n",
    "        print(\"\\n\")\n",
    "        print(np.around(Ct, 3))\n",
    "        print(\"\\n\")\n",
    "        print(np.around(Dt, 3))\n",
    "        print(\"\\n\")\n",
    "        print(np.around(Bt, 3))\n",
    "        print(\"\\n\")            \n",
    "            \n",
    "    return Ct[0,0]"
   ]
  },
  {
   "cell_type": "markdown",
   "metadata": {},
   "source": [
    "### Problem 1\n",
    "##### a."
   ]
  },
  {
   "cell_type": "code",
   "execution_count": 71,
   "metadata": {},
   "outputs": [],
   "source": [
    "def euroBinomPricerRecursiveMatrix(S, K, r, v, q, T, n, payoff, verbose = True):\n",
    "    nodes = n  + 1\n",
    "    h = T / n\n",
    "    u = 1.3\n",
    "    d = .8\n",
    "    pu = (np.exp((r - q) * h) - d) / (u - d)\n",
    "    pd = 1.0 - pu\n",
    "    disc = np.exp(-r * h)\n",
    "    \n",
    "    ## Arrays to store the spot prices and option values\n",
    "    Ct = np.zeros((nodes, n+1))\n",
    "    St = np.zeros((nodes, n+1))\n",
    "    Dt = np.zeros((nodes, n+1))\n",
    "    Bt = np.zeros((nodes, n+1))\n",
    "    \n",
    "    for i in range(nodes):\n",
    "        St[i, n] = S * (u**(n-i)) * (d**i)\n",
    "        Ct[i, n] = payoff(St[i, n], K)\n",
    "    \n",
    "\n",
    "    for t in range((n-1), -1, -1):\n",
    "        for j in range(t+1):\n",
    "            St[j, t] = St[j, t+1] / u\n",
    "            Ct[j, t] = disc * ((pu * Ct[j, t+1]) + (pd * Ct[j+1, t+1]))                    \n",
    "            Dt[j, t] = np.exp(-q * h) * (Ct[j, t+1] - Ct[j+1, t+1]) / (St[j, t] * (u - d)) #delta\n",
    "            Bt[j, t] = np.exp(-r * h) * (((u * Ct[j+1, t+1]) - (d * Ct[j, t+1])) / (u - d))\n",
    "        \n",
    "    if verbose:\n",
    "        print(np.around(St, 3))\n",
    "        print(\"\\n\")\n",
    "        print(np.around(Ct, 3))\n",
    "        print(\"\\n\")\n",
    "        print(np.around(Dt, 3))\n",
    "        print(\"\\n\")\n",
    "        print(np.around(Bt, 3))\n",
    "        print(\"\\n\")\n",
    "                    \n",
    "            \n",
    "    return Ct[0,0]"
   ]
  },
  {
   "cell_type": "code",
   "execution_count": 72,
   "metadata": {},
   "outputs": [],
   "source": [
    "r = 0.08   ### time step\n",
    "v = 0.30   ### volatility \n",
    "q = 0.0    ### dividend\n",
    "T = .5\n",
    "n = 1      ### periods\n",
    "h = T / n\n",
    "S = 100.0  ### spot price \n",
    "K = 105.0  ### strike price"
   ]
  },
  {
   "cell_type": "code",
   "execution_count": 73,
   "metadata": {},
   "outputs": [
    {
     "name": "stdout",
     "output_type": "stream",
     "text": [
      "[[100. 130.]\n",
      " [  0.  80.]]\n",
      "\n",
      "\n",
      "[[11.568 25.   ]\n",
      " [ 0.     0.   ]]\n",
      "\n",
      "\n",
      "[[0.5 0. ]\n",
      " [0.  0. ]]\n",
      "\n",
      "\n",
      "[[-38.432   0.   ]\n",
      " [  0.      0.   ]]\n",
      "\n",
      "\n"
     ]
    },
    {
     "data": {
      "text/plain": [
       "11.568422433907068"
      ]
     },
     "execution_count": 73,
     "metadata": {},
     "output_type": "execute_result"
    }
   ],
   "source": [
    "callPrc = euroBinomPricerRecursiveMatrix(S, K, r, v, q, T, n, callPayoff, verbose = True)\n",
    "callPrc"
   ]
  },
  {
   "cell_type": "markdown",
   "metadata": {},
   "source": [
    "### Problem 1\n",
    "##### b."
   ]
  },
  {
   "cell_type": "code",
   "execution_count": 78,
   "metadata": {},
   "outputs": [],
   "source": [
    "def euroBinomPricerRecursiveMatrix(S, K, r, v, q, T, n, payoff, verbose = True):\n",
    "    nodes = n  + 1\n",
    "    h = T / n\n",
    "    u = 1.3\n",
    "    d = .8\n",
    "    pu = (np.exp((r - q) * h) - d) / (u - d)\n",
    "    pd = 1.0 - pu\n",
    "    disc = np.exp(-r * h)\n",
    "    \n",
    "    ## Arrays to store the spot prices and option values\n",
    "    Ct = np.zeros((nodes, n+1))\n",
    "    St = np.zeros((nodes, n+1))\n",
    "    Dt = np.zeros((nodes, n+1))\n",
    "    Bt = np.zeros((nodes, n+1))\n",
    "    \n",
    "    for i in range(nodes):\n",
    "        St[i, n] = S * (u**(n-i)) * (d**i)\n",
    "        Ct[i, n] = payoff(St[i, n], K)\n",
    "    \n",
    "\n",
    "    for t in range((n-1), -1, -1):\n",
    "        for j in range(t+1):\n",
    "            St[j, t] = St[j, t+1] / u\n",
    "            Ct[j, t] = disc * ((pu * Ct[j, t+1]) + (pd * Ct[j+1, t+1]))                    \n",
    "            Dt[j, t] = np.exp(-q * h) * (Ct[j, t+1] - Ct[j+1, t+1]) / (St[j, t] * (u - d)) #delta\n",
    "            Bt[j, t] = np.exp(-r * h) * (((u * Ct[j+1, t+1]) - (d * Ct[j, t+1])) / (u - d))\n",
    "        \n",
    "    if verbose:\n",
    "        print(np.around(St, 3))\n",
    "        print(\"\\n\")\n",
    "        print(np.around(Ct, 3))\n",
    "        print(\"\\n\")\n",
    "        print(np.around(Dt, 3))\n",
    "        print(\"\\n\")\n",
    "        print(np.around(Bt, 3))\n",
    "        print(\"\\n\")\n",
    "                    \n",
    "            \n",
    "    return Ct[0,0]"
   ]
  },
  {
   "cell_type": "code",
   "execution_count": 79,
   "metadata": {},
   "outputs": [],
   "source": [
    "r = 0.08   ### time step\n",
    "v = 0.30   ### volatility \n",
    "q = 0.0    ### dividend\n",
    "T = .5\n",
    "n = 1      ### periods\n",
    "h = T / n\n",
    "S = 100.0  ### spot price \n",
    "K = 105.0  ### strike price"
   ]
  },
  {
   "cell_type": "code",
   "execution_count": 80,
   "metadata": {},
   "outputs": [
    {
     "name": "stdout",
     "output_type": "stream",
     "text": [
      "[[100. 130.]\n",
      " [  0.  80.]]\n",
      "\n",
      "\n",
      "[[12.451  0.   ]\n",
      " [ 0.    25.   ]]\n",
      "\n",
      "\n",
      "[[-0.5  0. ]\n",
      " [ 0.   0. ]]\n",
      "\n",
      "\n",
      "[[62.451  0.   ]\n",
      " [ 0.     0.   ]]\n",
      "\n",
      "\n"
     ]
    },
    {
     "data": {
      "text/plain": [
       "12.45131354490101"
      ]
     },
     "execution_count": 80,
     "metadata": {},
     "output_type": "execute_result"
    }
   ],
   "source": [
    "putPrc = euroBinomPricerRecursiveMatrix(S, K, r, v, q, T, n, putPayoff, verbose = True)\n",
    "putPrc"
   ]
  },
  {
   "cell_type": "markdown",
   "metadata": {},
   "source": [
    "### Problem 2\n",
    "##### a."
   ]
  },
  {
   "cell_type": "code",
   "execution_count": 82,
   "metadata": {},
   "outputs": [],
   "source": [
    "r = 0.08   ### time step\n",
    "v = 0.30   ### volatility \n",
    "q = 0.0    ### dividend\n",
    "T = .5\n",
    "n = 1      ### periods\n",
    "h = T / n\n",
    "S = 100.0  ### spot price \n",
    "K = 95.0  ### strike price"
   ]
  },
  {
   "cell_type": "code",
   "execution_count": 83,
   "metadata": {},
   "outputs": [
    {
     "name": "stdout",
     "output_type": "stream",
     "text": [
      "[[100. 130.]\n",
      " [  0.  80.]]\n",
      "\n",
      "\n",
      "[[ 7.471  0.   ]\n",
      " [ 0.    15.   ]]\n",
      "\n",
      "\n",
      "[[-0.3  0. ]\n",
      " [ 0.   0. ]]\n",
      "\n",
      "\n",
      "[[37.471  0.   ]\n",
      " [ 0.     0.   ]]\n",
      "\n",
      "\n"
     ]
    },
    {
     "data": {
      "text/plain": [
       "7.470788126940606"
      ]
     },
     "execution_count": 83,
     "metadata": {},
     "output_type": "execute_result"
    }
   ],
   "source": [
    "putPrc = euroBinomPricerRecursiveMatrix(S, K, r, v, q, T, n, putPayoff, verbose = True)\n",
    "putPrc"
   ]
  },
  {
   "cell_type": "markdown",
   "metadata": {},
   "source": [
    "##### b."
   ]
  },
  {
   "cell_type": "code",
   "execution_count": 84,
   "metadata": {},
   "outputs": [
    {
     "name": "stdout",
     "output_type": "stream",
     "text": [
      "[[100. 130.]\n",
      " [  0.  80.]]\n",
      "\n",
      "\n",
      "[[16.196 35.   ]\n",
      " [ 0.     0.   ]]\n",
      "\n",
      "\n",
      "[[0.7 0. ]\n",
      " [0.  0. ]]\n",
      "\n",
      "\n",
      "[[-53.804   0.   ]\n",
      " [  0.      0.   ]]\n",
      "\n",
      "\n"
     ]
    },
    {
     "data": {
      "text/plain": [
       "16.195791407469894"
      ]
     },
     "execution_count": 84,
     "metadata": {},
     "output_type": "execute_result"
    }
   ],
   "source": [
    "callPrc = euroBinomPricerRecursiveMatrix(S, K, r, v, q, T, n, callPayoff, verbose = True)\n",
    "callPrc"
   ]
  },
  {
   "cell_type": "code",
   "execution_count": 85,
   "metadata": {},
   "outputs": [
    {
     "data": {
      "text/plain": [
       "0.8042085925301059"
      ]
     },
     "execution_count": 85,
     "metadata": {},
     "output_type": "execute_result"
    }
   ],
   "source": [
    "Arbitrage = 17 - callPrc\n",
    "Arbitrage\n",
    "#We short the stock"
   ]
  },
  {
   "cell_type": "markdown",
   "metadata": {},
   "source": [
    "##### c."
   ]
  },
  {
   "cell_type": "code",
   "execution_count": 66,
   "metadata": {},
   "outputs": [
    {
     "data": {
      "text/plain": [
       "-0.6957914074698941"
      ]
     },
     "execution_count": 66,
     "metadata": {},
     "output_type": "execute_result"
    }
   ],
   "source": [
    "Arbitrage1 = 15.50 - callPrc\n",
    "Arbitrage1\n",
    "#We long the stock"
   ]
  },
  {
   "cell_type": "markdown",
   "metadata": {},
   "source": [
    "### Problem 3"
   ]
  },
  {
   "cell_type": "code",
   "execution_count": 105,
   "metadata": {},
   "outputs": [],
   "source": [
    "r = 0.08   ### time step\n",
    "v = 0.30   ### volatility \n",
    "q = 0.0    ### dividend\n",
    "T = 1\n",
    "n = 2      ### periods\n",
    "h = T / n\n",
    "S = 100.0  ### spot price \n",
    "K = 95.0  ### strike price"
   ]
  },
  {
   "cell_type": "code",
   "execution_count": 106,
   "metadata": {},
   "outputs": [
    {
     "name": "stdout",
     "output_type": "stream",
     "text": [
      "[[100. 130. 169.]\n",
      " [  0.  80. 104.]\n",
      " [  0.   0.  64.]]\n",
      "\n",
      "\n",
      "[[19.994 38.725 74.   ]\n",
      " [ 0.     4.165  9.   ]\n",
      " [ 0.     0.     0.   ]]\n",
      "\n",
      "\n",
      "[[0.691 1.    0.   ]\n",
      " [0.    0.225 0.   ]\n",
      " [0.    0.    0.   ]]\n",
      "\n",
      "\n",
      "[[-49.127 -91.275   0.   ]\n",
      " [  0.    -13.835   0.   ]\n",
      " [  0.      0.      0.   ]]\n",
      "\n",
      "\n"
     ]
    }
   ],
   "source": [
    "callPrc = euroBinomPricerRecursiveMatrix(S, K, r, v, q, T, n, callPayoff, verbose = True)"
   ]
  },
  {
   "cell_type": "markdown",
   "metadata": {},
   "source": [
    "### Problem 4"
   ]
  },
  {
   "cell_type": "code",
   "execution_count": 88,
   "metadata": {},
   "outputs": [],
   "source": [
    "S = 80\n",
    "K = 95\n",
    "r = 0.08\n",
    "v = 0.30\n",
    "q = 0.0\n",
    "T = 1\n",
    "n = 3\n",
    "h = T / n"
   ]
  },
  {
   "cell_type": "code",
   "execution_count": 101,
   "metadata": {},
   "outputs": [
    {
     "name": "stdout",
     "output_type": "stream",
     "text": [
      "[[130.   169.   219.7  285.61]\n",
      " [  0.   104.   135.2  175.76]\n",
      " [  0.     0.    83.2  108.16]\n",
      " [  0.     0.     0.    66.56]]\n",
      "\n",
      "\n",
      "[[ 46.576  78.934 127.2   190.61 ]\n",
      " [  0.     21.971  42.7    80.76 ]\n",
      " [  0.      0.      5.818  13.16 ]\n",
      " [  0.      0.      0.      0.   ]]\n",
      "\n",
      "\n",
      "[[0.876 1.    1.    0.   ]\n",
      " [0.    0.709 1.    0.   ]\n",
      " [0.    0.    0.316 0.   ]\n",
      " [0.    0.    0.    0.   ]]\n",
      "\n",
      "\n",
      "[[-67.351 -90.066 -92.5     0.   ]\n",
      " [  0.    -51.793 -92.5     0.   ]\n",
      " [  0.      0.    -20.502   0.   ]\n",
      " [  0.      0.      0.      0.   ]]\n",
      "\n",
      "\n"
     ]
    }
   ],
   "source": [
    "callPrc = euroBinomPricerRecursiveMatrix(S, K, r, v, q, T, n, callPayoff, verbose = True)"
   ]
  },
  {
   "cell_type": "code",
   "execution_count": 90,
   "metadata": {},
   "outputs": [],
   "source": [
    "S = 90\n",
    "K = 95\n",
    "r = 0.08\n",
    "v = 0.30\n",
    "q = 0.0\n",
    "T = 1\n",
    "n = 3\n",
    "h = T / n"
   ]
  },
  {
   "cell_type": "code",
   "execution_count": 102,
   "metadata": {},
   "outputs": [
    {
     "name": "stdout",
     "output_type": "stream",
     "text": [
      "[[130.   169.   219.7  285.61]\n",
      " [  0.   104.   135.2  175.76]\n",
      " [  0.     0.    83.2  108.16]\n",
      " [  0.     0.     0.    66.56]]\n",
      "\n",
      "\n",
      "[[ 46.576  78.934 127.2   190.61 ]\n",
      " [  0.     21.971  42.7    80.76 ]\n",
      " [  0.      0.      5.818  13.16 ]\n",
      " [  0.      0.      0.      0.   ]]\n",
      "\n",
      "\n",
      "[[0.876 1.    1.    0.   ]\n",
      " [0.    0.709 1.    0.   ]\n",
      " [0.    0.    0.316 0.   ]\n",
      " [0.    0.    0.    0.   ]]\n",
      "\n",
      "\n",
      "[[-67.351 -90.066 -92.5     0.   ]\n",
      " [  0.    -51.793 -92.5     0.   ]\n",
      " [  0.      0.    -20.502   0.   ]\n",
      " [  0.      0.      0.      0.   ]]\n",
      "\n",
      "\n"
     ]
    }
   ],
   "source": [
    "callPrc = euroBinomPricerRecursiveMatrix(S, K, r, v, q, T, n, callPayoff, verbose = True)"
   ]
  },
  {
   "cell_type": "code",
   "execution_count": 93,
   "metadata": {},
   "outputs": [],
   "source": [
    "S = 110\n",
    "K = 95\n",
    "r = 0.08\n",
    "v = 0.30\n",
    "q = 0.0\n",
    "T = 1\n",
    "n = 3\n",
    "h = T / n"
   ]
  },
  {
   "cell_type": "code",
   "execution_count": 103,
   "metadata": {},
   "outputs": [
    {
     "name": "stdout",
     "output_type": "stream",
     "text": [
      "[[130.   169.   219.7  285.61]\n",
      " [  0.   104.   135.2  175.76]\n",
      " [  0.     0.    83.2  108.16]\n",
      " [  0.     0.     0.    66.56]]\n",
      "\n",
      "\n",
      "[[ 46.576  78.934 127.2   190.61 ]\n",
      " [  0.     21.971  42.7    80.76 ]\n",
      " [  0.      0.      5.818  13.16 ]\n",
      " [  0.      0.      0.      0.   ]]\n",
      "\n",
      "\n",
      "[[0.876 1.    1.    0.   ]\n",
      " [0.    0.709 1.    0.   ]\n",
      " [0.    0.    0.316 0.   ]\n",
      " [0.    0.    0.    0.   ]]\n",
      "\n",
      "\n",
      "[[-67.351 -90.066 -92.5     0.   ]\n",
      " [  0.    -51.793 -92.5     0.   ]\n",
      " [  0.      0.    -20.502   0.   ]\n",
      " [  0.      0.      0.      0.   ]]\n",
      "\n",
      "\n"
     ]
    }
   ],
   "source": [
    "callPrc = euroBinomPricerRecursiveMatrix(S, K, r, v, q, T, n, callPayoff, verbose = True)\\"
   ]
  },
  {
   "cell_type": "code",
   "execution_count": 96,
   "metadata": {},
   "outputs": [],
   "source": [
    "S = 120\n",
    "K = 95\n",
    "r = 0.08\n",
    "v = 0.30\n",
    "q = 0.0\n",
    "T = 1\n",
    "n = 3\n",
    "h = T / n"
   ]
  },
  {
   "cell_type": "code",
   "execution_count": 97,
   "metadata": {},
   "outputs": [
    {
     "name": "stdout",
     "output_type": "stream",
     "text": [
      "[[120.   156.   202.8  263.64]\n",
      " [  0.    96.   124.8  162.24]\n",
      " [  0.     0.    76.8   99.84]\n",
      " [  0.     0.     0.    61.44]]\n",
      "\n",
      "\n",
      "[[ 37.345  65.934 110.3   168.64 ]\n",
      " [  0.     15.417  32.3    67.24 ]\n",
      " [  0.      0.      2.14    4.84 ]\n",
      " [  0.      0.      0.      0.   ]]\n",
      "\n",
      "\n",
      "[[0.842 1.    1.    0.   ]\n",
      " [0.    0.628 1.    0.   ]\n",
      " [0.    0.    0.126 0.   ]\n",
      " [0.    0.    0.    0.   ]]\n",
      "\n",
      "\n",
      "[[-63.688 -90.066 -92.5     0.   ]\n",
      " [  0.    -44.903 -92.5     0.   ]\n",
      " [  0.      0.     -7.54    0.   ]\n",
      " [  0.      0.      0.      0.   ]]\n",
      "\n",
      "\n"
     ]
    }
   ],
   "source": [
    "callPrc = euroBinomPricerRecursiveMatrix(S, K, r, v, q, T, n, callPayoff, verbose = True)"
   ]
  },
  {
   "cell_type": "code",
   "execution_count": 99,
   "metadata": {},
   "outputs": [],
   "source": [
    "S = 130\n",
    "K = 95\n",
    "r = 0.08\n",
    "v = 0.30\n",
    "q = 0.0\n",
    "T = 1\n",
    "n = 3\n",
    "h = T / n"
   ]
  },
  {
   "cell_type": "code",
   "execution_count": 100,
   "metadata": {},
   "outputs": [
    {
     "name": "stdout",
     "output_type": "stream",
     "text": [
      "[[130.   169.   219.7  285.61]\n",
      " [  0.   104.   135.2  175.76]\n",
      " [  0.     0.    83.2  108.16]\n",
      " [  0.     0.     0.    66.56]]\n",
      "\n",
      "\n",
      "[[ 46.576  78.934 127.2   190.61 ]\n",
      " [  0.     21.971  42.7    80.76 ]\n",
      " [  0.      0.      5.818  13.16 ]\n",
      " [  0.      0.      0.      0.   ]]\n",
      "\n",
      "\n",
      "[[0.876 1.    1.    0.   ]\n",
      " [0.    0.709 1.    0.   ]\n",
      " [0.    0.    0.316 0.   ]\n",
      " [0.    0.    0.    0.   ]]\n",
      "\n",
      "\n",
      "[[-67.351 -90.066 -92.5     0.   ]\n",
      " [  0.    -51.793 -92.5     0.   ]\n",
      " [  0.      0.    -20.502   0.   ]\n",
      " [  0.      0.      0.      0.   ]]\n",
      "\n",
      "\n"
     ]
    }
   ],
   "source": [
    "callPrc = euroBinomPricerRecursiveMatrix(S, K, r, v, q, T, n, callPayoff, verbose = True)"
   ]
  },
  {
   "cell_type": "markdown",
   "metadata": {},
   "source": [
    "As S increases, delta increases at a decreasing rate."
   ]
  },
  {
   "cell_type": "markdown",
   "metadata": {},
   "source": [
    "### Problem 5\n",
    "##### a."
   ]
  },
  {
   "cell_type": "code",
   "execution_count": 123,
   "metadata": {},
   "outputs": [],
   "source": [
    "def euroBinomPricerRecursiveMatrix(S, K, r, v, q, T, n, payoff, verbose = True):\n",
    "    nodes = n  + 1\n",
    "    h = T / n\n",
    "    u = np.exp((r - q) * h + v * np.sqrt(h))\n",
    "    d = np.exp((r - q) * h - v * np.sqrt(h))\n",
    "    pu = (np.exp((r - q) * h) - d) / (u - d)\n",
    "    pd = 1.0 - pu\n",
    "    disc = np.exp(-r * h)\n",
    "    \n",
    "    ## Arrays to store the spot prices and option values\n",
    "    Ct = np.zeros((nodes, n+1))\n",
    "    St = np.zeros((nodes, n+1))\n",
    "    Dt = np.zeros((nodes, n+1))\n",
    "    Bt = np.zeros((nodes, n+1))\n",
    "    \n",
    "    for i in range(nodes):\n",
    "        St[i, n] = S * (u**(n-i)) * (d**i)\n",
    "        Ct[i, n] = payoff(St[i, n], K)\n",
    "    \n",
    "\n",
    "    for t in range((n-1), -1, -1):\n",
    "        for j in range(t+1):\n",
    "            St[j, t] = St[j, t+1] / u\n",
    "            Ct[j, t] = disc * ((pu * Ct[j, t+1]) + (pd * Ct[j+1, t+1]))                    \n",
    "            Dt[j, t] = np.exp(-q * h) * (Ct[j, t+1] - Ct[j+1, t+1]) / (St[j, t] * (u - d)) #delta\n",
    "            Bt[j, t] = np.exp(-r * h) * (((u * Ct[j+1, t+1]) - (d * Ct[j, t+1])) / (u - d))\n",
    "            \n",
    "    if verbose:\n",
    "        print(np.around(St, 3))\n",
    "        print(\"\\n\")\n",
    "        print(np.around(Ct, 3))\n",
    "        print(\"\\n\")\n",
    "        print(np.around(Dt, 3))\n",
    "        print(\"\\n\")\n",
    "        print(np.around(Bt, 3))\n",
    "        print(\"\\n\")            \n",
    "            \n",
    "    return Ct[0,0]"
   ]
  },
  {
   "cell_type": "markdown",
   "metadata": {},
   "source": [
    "### a."
   ]
  },
  {
   "cell_type": "code",
   "execution_count": 116,
   "metadata": {},
   "outputs": [],
   "source": [
    "S = 100\n",
    "K = 95\n",
    "r = .08\n",
    "v = .3\n",
    "q = 0\n",
    "T = 1\n",
    "n = 3\n",
    "h = T / n"
   ]
  },
  {
   "cell_type": "code",
   "execution_count": 124,
   "metadata": {},
   "outputs": [
    {
     "data": {
      "text/plain": [
       "18.28255220737056"
      ]
     },
     "execution_count": 124,
     "metadata": {},
     "output_type": "execute_result"
    }
   ],
   "source": [
    "callPrc1 = euroBinomPricerRecursiveMatrix(S, K, r, v, q, T, n, callPayoff, verbose = False)\n",
    "callPrc1"
   ]
  },
  {
   "cell_type": "markdown",
   "metadata": {},
   "source": [
    "There is no early excersize."
   ]
  },
  {
   "cell_type": "markdown",
   "metadata": {},
   "source": [
    "### b."
   ]
  },
  {
   "cell_type": "code",
   "execution_count": 120,
   "metadata": {},
   "outputs": [
    {
     "data": {
      "text/plain": [
       "18.28255220737056"
      ]
     },
     "execution_count": 120,
     "metadata": {},
     "output_type": "execute_result"
    }
   ],
   "source": [
    "callPrc2 = euroBinomPricerRecursiveMatrix(S, K, r, v, q, T, n, callPayoff, verbose = False)\n",
    "callPrc2"
   ]
  },
  {
   "cell_type": "markdown",
   "metadata": {},
   "source": [
    "### c."
   ]
  },
  {
   "cell_type": "code",
   "execution_count": 128,
   "metadata": {},
   "outputs": [
    {
     "data": {
      "text/plain": [
       "5.97860511410097"
      ]
     },
     "execution_count": 128,
     "metadata": {},
     "output_type": "execute_result"
    }
   ],
   "source": [
    "putPrc1 = euroBinomPricerRecursiveMatrix(S, K, r, v, q, T, n, putPayoff, verbose = False)\n",
    "putPrc1"
   ]
  },
  {
   "cell_type": "markdown",
   "metadata": {},
   "source": [
    "Put call parity will hold."
   ]
  },
  {
   "cell_type": "code",
   "execution_count": 127,
   "metadata": {},
   "outputs": [
    {
     "data": {
      "text/plain": [
       "12.3039470932696"
      ]
     },
     "execution_count": 127,
     "metadata": {},
     "output_type": "execute_result"
    }
   ],
   "source": [
    "parity = S - (K * np.exp(( - r * T)))\n",
    "parity"
   ]
  },
  {
   "cell_type": "code",
   "execution_count": 129,
   "metadata": {},
   "outputs": [
    {
     "data": {
      "text/plain": [
       "12.30394709326959"
      ]
     },
     "execution_count": 129,
     "metadata": {},
     "output_type": "execute_result"
    }
   ],
   "source": [
    "parity1 = callPrc2 - putPrc1\n",
    "parity1"
   ]
  },
  {
   "cell_type": "markdown",
   "metadata": {},
   "source": [
    "### d."
   ]
  },
  {
   "cell_type": "code",
   "execution_count": 134,
   "metadata": {},
   "outputs": [],
   "source": [
    "def euroBinomPricerRecursive(S, K, r, v, q, T, n, payoff, verbose = False):\n",
    "    nodes = n  + 1\n",
    "    h = T / n\n",
    "    u = np.exp((r - q) * h + v * np.sqrt(h))\n",
    "    d = np.exp((r - q) * h - v * np.sqrt(h))\n",
    "    pu = (np.exp((r - q) * h) - d) / (u - d)\n",
    "    pd = 1.0 - pu\n",
    "    disc = np.exp(-r * h)\n",
    "   \n",
    "   \n",
    "   ## Arrays to store the spot prices and option values\n",
    "    Ct = np.empty(nodes)\n",
    "    St = np.empty(nodes)\n",
    "   \n",
    "    for i in range(nodes):\n",
    "        St[i] = S * (u ** (n - i)) * (d ** i)\n",
    "        Ct[i] = payoff(St[i], K)\n",
    "   \n",
    "    if verbose:\n",
    "        print(Ct)\n",
    "       \n",
    "    for t in range((n - 1), -1, -1):\n",
    "        for j in range(t+1):\n",
    "            Ct[j] = disc * (pu * Ct[j] + pd * Ct[j+1])\n",
    "            St[j] = St[j] / u\n",
    "            Ct[j] = np.maximum(Ct[j], K - St[j])\n",
    "            print(Ct)\n",
    "           \n",
    "    return Ct[0]\n",
    "\n"
   ]
  },
  {
   "cell_type": "code",
   "execution_count": 138,
   "metadata": {},
   "outputs": [],
   "source": [
    "def euroBinomPricerRecursiveMatrix(S, K, r, v, q, T, n, payoff, verbose = False):\n",
    "    nodes = n  + 1\n",
    "    h = T / n\n",
    "    u = np.exp((r - q) * h + v * np.sqrt(h))\n",
    "    d = np.exp((r - q) * h - v * np.sqrt(h))\n",
    "    pu = (np.exp((r - q) * h) - d) / (u - d)\n",
    "    pd = 1.0 - pu\n",
    "    disc = np.exp(-r * h)\n",
    "   \n",
    "   ## Arrays to store the spot prices and option values\n",
    "    Ct = np.zeros((nodes, n+1))\n",
    "    St = np.zeros((nodes, n+1))\n",
    "    Dt = np.zeros((nodes, n+1))\n",
    "   \n",
    "    for i in range(nodes):\n",
    "        St[i, n] = S * (u**(n-i)) * (d**i)\n",
    "        Ct[i, n] = payoff(St[i, n], K)\n",
    "   \n",
    "\n",
    "    for t in range((n-1), -1, -1):\n",
    "        for j in range(t+1):\n",
    "            St[j, t] = St[j, t+1] / u\n",
    "            Ct[j, t] = disc * ((pu * Ct[j, t+1]) + (pd * Ct[j+1, t+1]))\n",
    "            Dt[j, t] = np.exp(-q * h) * (Ct[j, t+1] - Ct[j+1, t+1]) / (St[j, t] * (u - d))\n",
    "         \n",
    "    return Ct[0,0]"
   ]
  },
  {
   "cell_type": "code",
   "execution_count": 141,
   "metadata": {},
   "outputs": [],
   "source": [
    "S = 100\n",
    "K = 95\n",
    "r = 0.08\n",
    "v = 0.30\n",
    "q = 0.0\n",
    "T = 1\n",
    "n = 3"
   ]
  },
  {
   "cell_type": "code",
   "execution_count": 144,
   "metadata": {},
   "outputs": [
    {
     "name": "stdout",
     "output_type": "stream",
     "text": [
      "[56.64406241 33.8147424   0.          0.        ]\n",
      "[56.64406241 15.04032855  0.          0.        ]\n",
      "[56.64406241 15.04032855 20.40351726  0.        ]\n",
      "[33.14931753 15.04032855 20.40351726  0.        ]\n",
      "[33.14931753 17.48114202 20.40351726  0.        ]\n",
      "[23.99012609 17.48114202 20.40351726  0.        ]\n",
      "[ 0.          0.          3.89933488 30.57157332]\n",
      "[ 0.          2.06235672  3.89933488 30.57157332]\n",
      "[ 0.          2.06235672 20.40351726 30.57157332]\n",
      "[ 1.09077967  2.06235672 20.40351726 30.57157332]\n",
      "[ 1.09077967 11.7087201  20.40351726 30.57157332]\n",
      "[ 6.67790123 11.7087201  20.40351726 30.57157332]\n",
      "The European Call Premium:  18.283 The American call is  18.283\n",
      "The European Put Premium:  5.979 The American put is  6.678\n"
     ]
    }
   ],
   "source": [
    "callPrcA = euroBinomPricerRecursive(S, K, r, v, q, T, n, callPayoff,  verbose = False)\n",
    "callPrcE = euroBinomPricerRecursiveMatrix(S, K, r, v, q, T, n, callPayoff,  verbose = False)\n",
    "putPrcA = euroBinomPricerRecursive(S, K, r, v, q, T, n, putPayoff,  verbose = False)\n",
    "putPrcE = euroBinomPricerRecursiveMatrix(S, K, r, v, q, T, n, putPayoff,  verbose = False)\n",
    "\n",
    "print(f\"The European Call Premium: {callPrcE : 0.3f} The American call is {callPrcE : 0.3f}\")\n",
    "print(f\"The European Put Premium: {putPrcE : 0.3f} The American put is {putPrcA : 0.3f}\")"
   ]
  },
  {
   "cell_type": "markdown",
   "metadata": {},
   "source": [
    "### Problem 6"
   ]
  },
  {
   "cell_type": "markdown",
   "metadata": {},
   "source": [
    "#### a."
   ]
  },
  {
   "cell_type": "code",
   "execution_count": 148,
   "metadata": {},
   "outputs": [],
   "source": [
    "S = 40\n",
    "K = 40\n",
    "r = 0.08\n",
    "v = 0.30\n",
    "q = 0.0\n",
    "T = .5\n",
    "n = 3\n",
    "h = T / n"
   ]
  },
  {
   "cell_type": "code",
   "execution_count": 150,
   "metadata": {},
   "outputs": [
    {
     "name": "stdout",
     "output_type": "stream",
     "text": [
      "1.1454617381452392 0.8966038495199921\n"
     ]
    }
   ],
   "source": [
    "u1 = np.exp((r - q) * h + v * np.sqrt(h))\n",
    "d1 = np.exp((r - q) * h - v * np.sqrt(h))\n",
    "print(u1, d1)"
   ]
  },
  {
   "cell_type": "markdown",
   "metadata": {},
   "source": [
    "#### b."
   ]
  },
  {
   "cell_type": "code",
   "execution_count": 151,
   "metadata": {},
   "outputs": [
    {
     "name": "stdout",
     "output_type": "stream",
     "text": [
      "[13.01309727  7.05673217  0.          0.        ]\n",
      "[13.01309727  3.26869392  0.          0.        ]\n",
      "[13.01309727  3.26869392  7.84406148  0.        ]\n",
      "[7.73902974 3.26869392 7.84406148 0.        ]\n",
      "[7.73902974 5.6208478  7.84406148 0.        ]\n",
      "[6.52754713 5.6208478  7.84406148 0.        ]\n",
      "[ 0.          0.          3.16660277 11.16886174]\n",
      "[ 0.          1.65788424  3.16660277 11.16886174]\n",
      "[ 0.          1.65788424  7.84406148 11.16886174]\n",
      "[ 0.86799019  1.65788424  7.84406148 11.16886174]\n",
      "[ 0.86799019  4.8747172   7.84406148 11.16886174]\n",
      "[ 2.95422756  4.8747172   7.84406148 11.16886174]\n",
      "The European Call Premium:  4.377 The American call is  4.377\n",
      "The European Put Premium:  2.809 The American put is  2.954\n"
     ]
    }
   ],
   "source": [
    "callPrcA = euroBinomPricerRecursive(S, K, r, v, q, T, n, callPayoff,  verbose = False)\n",
    "callPrcE = euroBinomPricerRecursiveMatrix(S, K, r, v, q, T, n, callPayoff,  verbose = False)\n",
    "putPrcA = euroBinomPricerRecursive(S, K, r, v, q, T, n, putPayoff,  verbose = False)\n",
    "putPrcE = euroBinomPricerRecursiveMatrix(S, K, r, v, q, T, n, putPayoff,  verbose = False)\n",
    "\n",
    "print(f\"The European Call Premium: {callPrcE : 0.3f} The American call is {callPrcE : 0.3f}\")\n",
    "print(f\"The European Put Premium: {putPrcE : 0.3f} The American put is {putPrcA : 0.3f}\")"
   ]
  }
 ],
 "metadata": {
  "kernelspec": {
   "display_name": "Python 3",
   "language": "python",
   "name": "python3"
  },
  "language_info": {
   "codemirror_mode": {
    "name": "ipython",
    "version": 3
   },
   "file_extension": ".py",
   "mimetype": "text/x-python",
   "name": "python",
   "nbconvert_exporter": "python",
   "pygments_lexer": "ipython3",
   "version": "3.6.5"
  }
 },
 "nbformat": 4,
 "nbformat_minor": 2
}
